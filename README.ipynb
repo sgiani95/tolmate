{
 "cells": [
  {
   "cell_type": "markdown",
   "id": "036bdfb1-d893-4328-9cf2-9d65e1623191",
   "metadata": {},
   "source": [
    "### TolMate:\n",
    "TolMate is a Python utility for checking if a value falls within specified tolerance ranges. It provides feedback via console messages and popup windows to alert users about the status of the value, whether it's within range or outside specifications.\n",
    "\n",
    "## Features\n",
    "\n",
    "- **Tolerance Checks**: Supports up to three (optional) levels of tolerance ranges:\n",
    "  - **Tol 1**: Normal range\n",
    "  - **Tol 2**: Soft warning\n",
    "  - **Tol 3**: Hard warning\n",
    "- **Interactive Popups**: Display user-friendly messages with color-coded warnings and action buttons.\n",
    "- **Dynamic Value Rechecking**: Modify values directly from the popup for re-evaluation.\n",
    "- **Behavior Configuration**: Enable or disable popups and console messages globally.\n",
    "- **Simple API**: Easy to integrate into your existing Python projects.\n",
    "\n",
    "![Soft Warning](./Bild2.png \"Soft warning\")\n",
    "\n",
    "![Critical Warning](./Bild3.png \"Critical Warning\")\n",
    "\n",
    "![Error](./Bild4.png \"Error\")\n",
    "\n",
    "- **Customizable Look**: Highlight alerts with built-in symbols or emojis.\n",
    "- **Reusable and Lightweight**: Designed to integrate seamlessly into larger projects.\n",
    "    \n",
    "### Usage:\n",
    "To use the package, simply import the relevant functions and provide reaction SMILES as input."
   ]
  },
  {
   "cell_type": "code",
   "id": "b34943fa-2fff-4257-9b39-199f1f1b5d45",
   "metadata": {},
   "source": [
    "### Basic example\n",

    "from tolmate import configure_behavior, tolmate\n",
    "\n",
    "# Set global behavior for popups and messages (by default all True)\n",
    "configure_behavior(show_popup=True, show_message=False)\n",
    "\n",
    "# Main program example\n",
    "def celsius_to_kelvin(celsius):\n",
    "    \"\"\"Convert Celsius to Kelvin.\"\"\"\n",
    "    return celsius + 273.15\n",
    "\n",
    "# Main loop for initial value input\n",
    "try:\n",
    "    # Configure global behavior (example: enable both message and popup)\n",
    "    value = float(input(\"\\nEnter the temperature in degrees Celsius: \"))\n",
    "\n",
    "    if tolmate(value, 20, 40, 10, 50, 0, 60):  # Example ranges\n",
    "        kelvin = celsius_to_kelvin(value)\n",
    "        print(f\"\\nThe temperature in Kelvin is: {kelvin:.2f}\")\n",
    "    else:\n",
    "        print(\"\\nThe value is outside specifications.\")\n",
    "\n",
    "except ValueError:\n",
    "    print(\"Please enter a valid number!\")"
   ]
  }
 ],
 "metadata": {
  "kernelspec": {
   "display_name": "Python 3 (ipykernel)",
   "language": "python",
   "name": "python3"
  },
  "language_info": {
   "codemirror_mode": {
    "name": "ipython",
    "version": 3
   },
   "file_extension": ".py",
   "mimetype": "text/x-python",
   "name": "python",
   "nbconvert_exporter": "python",
   "pygments_lexer": "ipython3",
   "version": "3.12.3"
  }
 },
 "nbformat": 4,
 "nbformat_minor": 5
}
