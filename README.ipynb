{
 "cells": [
  {
   "cell_type": "markdown",
   "id": "e7424fbc-3cbe-497c-affb-083b5d81d48a",
   "metadata": {},
   "source": [
    "# TolMate\r\n",
    "\r\n",
    "**TolMate** is a Python utility for checking if a value falls within specified tolerance ranges. It provides feedback via console messages and popup windows to alert users about the status of the value, whether it's within range or outside specifications---\r\n",
    "\r\n",
    "## Features\r\n",
    "\r\n",
    "- **Tolerance Checks**: Supports up to three (optional) levels of tolerance ranges:\r\n",
    "  - **Tol 1**: Normal range\r\n",
    "  - **Tol 2**: Soft warning\r\n",
    "  - **Tol 3**: Hard warning\r\n",
    "- **Interactive Popups**: Display user-friendly messages with color-coded warnings and action buttons.\r\n",
    "- **Dynamic Value Rechecking**: Modify values directly from the popup for re-evaluation.\r\n",
    "- **Behavior Configuration**: Enable or disable popups and console messages globally.\r\n",
    "- **Simple API**: Easy to integrate into your existing Python projects.\r\n",
    "\r\n",
    "![Soft Warning](./Bild2.png \"Soft warning\")\r\n",
    "\r\n",
    "![Critical Warning](./Bild3.png \"Critical Warning\")\r\n",
    "\r\n",
    "![Error](./Bild4.png \"Error\")\r\n",
    "\r\n",
    "- **Customizable Look**: Highlight alerts with built-in symbols or emojis.\r\n",
    "- **Reusable and Lightweight**: Designed\n",
    "\n",
    "## Requirements\n",
    "\n",
    "- Python 3.x\n",
    "- `tkinter` (comes pre-installed with Python)ter a valid number!\")\r\n",
    "```"
   ]
  },
  {
   "cell_type": "code",
   "execution_count": null,
   "id": "59a740ae-d720-4330-92fe-ff8eca773751",
   "metadata": {},
   "outputs": [],
   "source": [
    "### Basic Example\n",
    "\n",
    "from tolmate import configure_behavior, tolmate\n",
    "\n",
    "# Set global behavior for popups and messages (by default all True)\n",
    "configure_behavior(show_popup=True, show_message=False)\n",
    "\n",
    "# Main program example\n",
    "def celsius_to_kelvin(celsius):\n",
    "    \"\"\"Convert Celsius to Kelvin.\"\"\"\n",
    "    return celsius + 273.15\n",
    "\n",
    "# Main loop for initial value input\n",
    "try:\n",
    "    # Configure global behavior (example: enable both message and popup)\n",
    "    value = float(input(\"\\nEnter the temperature in degrees Celsius: \"))\n",
    "\n",
    "    if tolmate(value, 20, 40, 10, 50, 0, 60):  # Example ranges\n",
    "        kelvin = celsius_to_kelvin(value)\n",
    "        print(f\"\\nThe temperature in Kelvin is: {kelvin:.2f}\")\n",
    "    else:\n",
    "        print(\"\\nThe value is outside specifications.\")\n",
    "\n",
    "except ValueError:\n",
    "    print(\"Please enter a valid number!\")"
   ]
  }
 ],
 "metadata": {
  "kernelspec": {
   "display_name": "Python 3 (ipykernel)",
   "language": "python",
   "name": "python3"
  },
  "language_info": {
   "codemirror_mode": {
    "name": "ipython",
    "version": 3
   },
   "file_extension": ".py",
   "mimetype": "text/x-python",
   "name": "python",
   "nbconvert_exporter": "python",
   "pygments_lexer": "ipython3",
   "version": "3.12.3"
  }
 },
 "nbformat": 4,
 "nbformat_minor": 5
}
