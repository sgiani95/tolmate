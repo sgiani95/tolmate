{
 "cells": [
  {
   "cell_type": "markdown",
   "id": "af793ccb-bb5a-4d63-b90c-e1c2557e6a94",
   "metadata": {},
   "source": [
    "### TolMate:\\n\",\r\n",
    "   \"TolMate is a Python utility for checking if a value falls within specified tolerance ranges. It provides feedback via console messages and popup windows to alert users about the status of the value, whether it's within range or outside specifications,\n",
    "      \"## Featuren\",\r\n",
    "   \\n\",\r\n",
    "    \"- **Tolerance Checks**: Supports up to three (optional) levels of tolerance ranges:\\n\",\r\n",
    "    \"  - **Tol 1**: Normal range\\n\",\r\n",
    "    \"  - **Tol 2**: Soft warning\\n\",\r\n",
    "    \"  - **Tol 3**: Hard warning\\n\",\r\n",
    "    \"- **Interactive Popups**: Display user-friendly messages with color-coded warnings and action buttons.\\n\",\r\n",
    "    \"- **Dynamic Value Rechecking**: Modify values directly from the popup for re-evaluation.\\n\",\r\n",
    "    \"- **Behavior Configuration**: Enable or disable popups and console messages globally.\\n\",\r\n",
    "    \"- **Simple API**: Easy to integrate into your existing Python projects.\\n\",\r\n",
    "    \"\\n\",\r\n",
    "    \"![Soft Warning](./Bild2.png \\\"Soft warning\\\")\\n\",\r\n",
    "    \"\\n\",\r\n",
    "    \"![Critical Warning](./Bild3.png \\\"Critical Warning\\\")\\n\",\r\n",
    "    \"\\n\",\r\n",
    "    \"![Error](./Bild4.png \\\"Error\\\")\\n\",\r\n",
    "    \"\\n\",\r\n",
    "    \"- **Customizable Look**: Highlight alerts with built-in symbols or emojis.\\n\",\r\n",
    "    \"- **Reusable and Lightweight**: Designed to integrate seamlessly into larger projects.\\n\","
   ]
  }
 ],
 "metadata": {
  "kernelspec": {
   "display_name": "Python 3 (ipykernel)",
   "language": "python",
   "name": "python3"
  },
  "language_info": {
   "codemirror_mode": {
    "name": "ipython",
    "version": 3
   },
   "file_extension": ".py",
   "mimetype": "text/x-python",
   "name": "python",
   "nbconvert_exporter": "python",
   "pygments_lexer": "ipython3",
   "version": "3.12.3"
  }
 },
 "nbformat": 4,
 "nbformat_minor": 5
}
